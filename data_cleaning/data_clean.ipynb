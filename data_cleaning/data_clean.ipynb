{
 "cells": [
  {
   "cell_type": "code",
   "execution_count": 41,
   "metadata": {},
   "outputs": [],
   "source": [
    "import numpy as np\n",
    "import pandas as pd\n",
    "import matplotlib.pyplot as plt"
   ]
  },
  {
   "cell_type": "code",
   "execution_count": 42,
   "metadata": {},
   "outputs": [
    {
     "data": {
      "text/html": [
       "<div>\n",
       "<style scoped>\n",
       "    .dataframe tbody tr th:only-of-type {\n",
       "        vertical-align: middle;\n",
       "    }\n",
       "\n",
       "    .dataframe tbody tr th {\n",
       "        vertical-align: top;\n",
       "    }\n",
       "\n",
       "    .dataframe thead th {\n",
       "        text-align: right;\n",
       "    }\n",
       "</style>\n",
       "<table border=\"1\" class=\"dataframe\">\n",
       "  <thead>\n",
       "    <tr style=\"text-align: right;\">\n",
       "      <th></th>\n",
       "      <th>company</th>\n",
       "      <th>location</th>\n",
       "      <th>industry</th>\n",
       "      <th>total_laid_off</th>\n",
       "      <th>percentage_laid_off</th>\n",
       "      <th>date</th>\n",
       "      <th>stage</th>\n",
       "      <th>country</th>\n",
       "      <th>funds_raised</th>\n",
       "    </tr>\n",
       "  </thead>\n",
       "  <tbody>\n",
       "    <tr>\n",
       "      <th>0</th>\n",
       "      <td>TikTok India</td>\n",
       "      <td>Mumbai</td>\n",
       "      <td>Consumer</td>\n",
       "      <td>40.0</td>\n",
       "      <td>NaN</td>\n",
       "      <td>2023-02-10</td>\n",
       "      <td>Acquired</td>\n",
       "      <td>India</td>\n",
       "      <td>9400.0</td>\n",
       "    </tr>\n",
       "    <tr>\n",
       "      <th>1</th>\n",
       "      <td>Rigetti Computing</td>\n",
       "      <td>SF Bay Area</td>\n",
       "      <td>Hardware</td>\n",
       "      <td>NaN</td>\n",
       "      <td>0.28</td>\n",
       "      <td>2023-02-10</td>\n",
       "      <td>Post-IPO</td>\n",
       "      <td>United States</td>\n",
       "      <td>298.0</td>\n",
       "    </tr>\n",
       "    <tr>\n",
       "      <th>2</th>\n",
       "      <td>Yahoo</td>\n",
       "      <td>SF Bay Area</td>\n",
       "      <td>Consumer</td>\n",
       "      <td>1600.0</td>\n",
       "      <td>0.20</td>\n",
       "      <td>2023-02-09</td>\n",
       "      <td>Acquired</td>\n",
       "      <td>United States</td>\n",
       "      <td>6.0</td>\n",
       "    </tr>\n",
       "    <tr>\n",
       "      <th>3</th>\n",
       "      <td>Deliveroo</td>\n",
       "      <td>London</td>\n",
       "      <td>Food</td>\n",
       "      <td>350.0</td>\n",
       "      <td>NaN</td>\n",
       "      <td>2023-02-09</td>\n",
       "      <td>Post-IPO</td>\n",
       "      <td>United Kingdom</td>\n",
       "      <td>1700.0</td>\n",
       "    </tr>\n",
       "    <tr>\n",
       "      <th>4</th>\n",
       "      <td>Olive AI</td>\n",
       "      <td>Columbus</td>\n",
       "      <td>Healthcare</td>\n",
       "      <td>215.0</td>\n",
       "      <td>0.35</td>\n",
       "      <td>2023-02-09</td>\n",
       "      <td>Series H</td>\n",
       "      <td>United States</td>\n",
       "      <td>856.0</td>\n",
       "    </tr>\n",
       "  </tbody>\n",
       "</table>\n",
       "</div>"
      ],
      "text/plain": [
       "             company     location    industry  total_laid_off  \\\n",
       "0       TikTok India       Mumbai    Consumer            40.0   \n",
       "1  Rigetti Computing  SF Bay Area    Hardware             NaN   \n",
       "2              Yahoo  SF Bay Area    Consumer          1600.0   \n",
       "3          Deliveroo       London        Food           350.0   \n",
       "4           Olive AI     Columbus  Healthcare           215.0   \n",
       "\n",
       "   percentage_laid_off        date     stage         country  funds_raised  \n",
       "0                  NaN  2023-02-10  Acquired           India        9400.0  \n",
       "1                 0.28  2023-02-10  Post-IPO   United States         298.0  \n",
       "2                 0.20  2023-02-09  Acquired   United States           6.0  \n",
       "3                  NaN  2023-02-09  Post-IPO  United Kingdom        1700.0  \n",
       "4                 0.35  2023-02-09  Series H   United States         856.0  "
      ]
     },
     "execution_count": 42,
     "metadata": {},
     "output_type": "execute_result"
    }
   ],
   "source": [
    "data = pd.read_csv('./data/layoffs.csv')\n",
    "data.head()"
   ]
  },
  {
   "cell_type": "code",
   "execution_count": 43,
   "metadata": {},
   "outputs": [
    {
     "data": {
      "text/plain": [
       "array(['Consumer', 'Hardware', 'Food', 'Healthcare', 'Product', 'Retail',\n",
       "       'Security', 'Transportation', 'Media', 'Crypto', 'Marketing',\n",
       "       'Finance', 'HR', 'Sales', 'Construction', 'Other', 'Education',\n",
       "       'Logistics', 'Data', 'Support', 'Legal', 'Real Estate', 'Fitness',\n",
       "       'Travel', 'Infrastructure', 'Energy', nan, 'Manufacturing',\n",
       "       'Recruiting', 'Aerospace'], dtype=object)"
      ]
     },
     "execution_count": 43,
     "metadata": {},
     "output_type": "execute_result"
    }
   ],
   "source": [
    "data['industry'].unique()"
   ]
  },
  {
   "cell_type": "code",
   "execution_count": 44,
   "metadata": {},
   "outputs": [
    {
     "data": {
      "text/plain": [
       "industry\n",
       "Aerospace           6\n",
       "Construction       16\n",
       "Consumer          109\n",
       "Crypto             94\n",
       "Data               78\n",
       "Education          89\n",
       "Energy             12\n",
       "Finance           278\n",
       "Fitness            30\n",
       "Food              131\n",
       "HR                 62\n",
       "Hardware           15\n",
       "Healthcare        170\n",
       "Infrastructure     41\n",
       "Legal              13\n",
       "Logistics          40\n",
       "Manufacturing       2\n",
       "Marketing         131\n",
       "Media              89\n",
       "Other             111\n",
       "Product            35\n",
       "Real Estate       112\n",
       "Recruiting         28\n",
       "Retail            184\n",
       "Sales              34\n",
       "Security           70\n",
       "Support            38\n",
       "Transportation    140\n",
       "Travel             65\n",
       "dtype: int64"
      ]
     },
     "execution_count": 44,
     "metadata": {},
     "output_type": "execute_result"
    }
   ],
   "source": [
    "data.groupby('industry').size()"
   ]
  },
  {
   "cell_type": "code",
   "execution_count": 45,
   "metadata": {},
   "outputs": [
    {
     "name": "stdout",
     "output_type": "stream",
     "text": [
      "<class 'pandas.core.frame.DataFrame'>\n",
      "RangeIndex: 331 entries, 0 to 330\n",
      "Data columns (total 10 columns):\n",
      " #   Column               Non-Null Count  Dtype  \n",
      "---  ------               --------------  -----  \n",
      " 0   index                331 non-null    int64  \n",
      " 1   company              331 non-null    object \n",
      " 2   location             331 non-null    object \n",
      " 3   industry             331 non-null    object \n",
      " 4   total_laid_off       218 non-null    float64\n",
      " 5   percentage_laid_off  227 non-null    float64\n",
      " 6   date                 331 non-null    object \n",
      " 7   stage                331 non-null    object \n",
      " 8   country              331 non-null    object \n",
      " 9   funds_raised         286 non-null    float64\n",
      "dtypes: float64(3), int64(1), object(6)\n",
      "memory usage: 26.0+ KB\n"
     ]
    }
   ],
   "source": [
    "tech  = data[\n",
    "\t(data['industry'] == 'Crypto') |\n",
    "\t(data['industry'] == 'Data') |\n",
    "\t(data['industry'] == 'Hardware') |\n",
    "\t(data['industry'] == 'Product') |\n",
    "\t(data['industry'] == 'Consumer') \n",
    "].reset_index()\n",
    "tech.info()"
   ]
  },
  {
   "cell_type": "code",
   "execution_count": 46,
   "metadata": {},
   "outputs": [
    {
     "data": {
      "text/html": [
       "<div>\n",
       "<style scoped>\n",
       "    .dataframe tbody tr th:only-of-type {\n",
       "        vertical-align: middle;\n",
       "    }\n",
       "\n",
       "    .dataframe tbody tr th {\n",
       "        vertical-align: top;\n",
       "    }\n",
       "\n",
       "    .dataframe thead th {\n",
       "        text-align: right;\n",
       "    }\n",
       "</style>\n",
       "<table border=\"1\" class=\"dataframe\">\n",
       "  <thead>\n",
       "    <tr style=\"text-align: right;\">\n",
       "      <th></th>\n",
       "      <th>company</th>\n",
       "      <th>location</th>\n",
       "      <th>industry</th>\n",
       "      <th>total_laid_off</th>\n",
       "      <th>percentage_laid_off</th>\n",
       "      <th>date</th>\n",
       "      <th>stage</th>\n",
       "      <th>country</th>\n",
       "      <th>funds_raised</th>\n",
       "    </tr>\n",
       "  </thead>\n",
       "  <tbody>\n",
       "    <tr>\n",
       "      <th>0</th>\n",
       "      <td>TikTok India</td>\n",
       "      <td>Mumbai</td>\n",
       "      <td>Consumer</td>\n",
       "      <td>40.0</td>\n",
       "      <td>NaN</td>\n",
       "      <td>2023-02-10</td>\n",
       "      <td>Acquired</td>\n",
       "      <td>India</td>\n",
       "      <td>9400.0</td>\n",
       "    </tr>\n",
       "    <tr>\n",
       "      <th>1</th>\n",
       "      <td>Rigetti Computing</td>\n",
       "      <td>SF Bay Area</td>\n",
       "      <td>Hardware</td>\n",
       "      <td>NaN</td>\n",
       "      <td>0.28</td>\n",
       "      <td>2023-02-10</td>\n",
       "      <td>Post-IPO</td>\n",
       "      <td>United States</td>\n",
       "      <td>298.0</td>\n",
       "    </tr>\n",
       "    <tr>\n",
       "      <th>2</th>\n",
       "      <td>Yahoo</td>\n",
       "      <td>SF Bay Area</td>\n",
       "      <td>Consumer</td>\n",
       "      <td>1600.0</td>\n",
       "      <td>0.20</td>\n",
       "      <td>2023-02-09</td>\n",
       "      <td>Acquired</td>\n",
       "      <td>United States</td>\n",
       "      <td>6.0</td>\n",
       "    </tr>\n",
       "    <tr>\n",
       "      <th>3</th>\n",
       "      <td>GitLab</td>\n",
       "      <td>SF Bay Area</td>\n",
       "      <td>Product</td>\n",
       "      <td>130.0</td>\n",
       "      <td>0.07</td>\n",
       "      <td>2023-02-09</td>\n",
       "      <td>Post-IPO</td>\n",
       "      <td>United States</td>\n",
       "      <td>413.0</td>\n",
       "    </tr>\n",
       "    <tr>\n",
       "      <th>4</th>\n",
       "      <td>GitHub</td>\n",
       "      <td>SF Bay Area</td>\n",
       "      <td>Product</td>\n",
       "      <td>NaN</td>\n",
       "      <td>0.10</td>\n",
       "      <td>2023-02-09</td>\n",
       "      <td>Acquired</td>\n",
       "      <td>United States</td>\n",
       "      <td>350.0</td>\n",
       "    </tr>\n",
       "  </tbody>\n",
       "</table>\n",
       "</div>"
      ],
      "text/plain": [
       "             company     location  industry  total_laid_off  \\\n",
       "0       TikTok India       Mumbai  Consumer            40.0   \n",
       "1  Rigetti Computing  SF Bay Area  Hardware             NaN   \n",
       "2              Yahoo  SF Bay Area  Consumer          1600.0   \n",
       "3             GitLab  SF Bay Area   Product           130.0   \n",
       "4             GitHub  SF Bay Area   Product             NaN   \n",
       "\n",
       "   percentage_laid_off        date     stage        country  funds_raised  \n",
       "0                  NaN  2023-02-10  Acquired          India        9400.0  \n",
       "1                 0.28  2023-02-10  Post-IPO  United States         298.0  \n",
       "2                 0.20  2023-02-09  Acquired  United States           6.0  \n",
       "3                 0.07  2023-02-09  Post-IPO  United States         413.0  \n",
       "4                 0.10  2023-02-09  Acquired  United States         350.0  "
      ]
     },
     "execution_count": 46,
     "metadata": {},
     "output_type": "execute_result"
    }
   ],
   "source": [
    "tech.drop(columns=['index'], inplace=True)\n",
    "tech.head()"
   ]
  },
  {
   "cell_type": "code",
   "execution_count": 47,
   "metadata": {},
   "outputs": [
    {
     "name": "stdout",
     "output_type": "stream",
     "text": [
      "(array([False,  True]), array([218, 113], dtype=int64))\n"
     ]
    }
   ],
   "source": [
    "x = np.array(tech['total_laid_off'].isna())\n",
    "print(np.unique(x, return_counts=True))"
   ]
  },
  {
   "cell_type": "code",
   "execution_count": 48,
   "metadata": {},
   "outputs": [
    {
     "name": "stdout",
     "output_type": "stream",
     "text": [
      "(array([False,  True]), array([227, 104], dtype=int64))\n"
     ]
    }
   ],
   "source": [
    "x = np.array(tech['percentage_laid_off'].isna())\n",
    "print(np.unique(x, return_counts=True))"
   ]
  },
  {
   "cell_type": "code",
   "execution_count": 49,
   "metadata": {},
   "outputs": [
    {
     "name": "stdout",
     "output_type": "stream",
     "text": [
      "<class 'pandas.core.frame.DataFrame'>\n",
      "Int64Index: 142 entries, 2 to 330\n",
      "Data columns (total 9 columns):\n",
      " #   Column               Non-Null Count  Dtype  \n",
      "---  ------               --------------  -----  \n",
      " 0   company              142 non-null    object \n",
      " 1   location             142 non-null    object \n",
      " 2   industry             142 non-null    object \n",
      " 3   total_laid_off       142 non-null    float64\n",
      " 4   percentage_laid_off  142 non-null    float64\n",
      " 5   date                 142 non-null    object \n",
      " 6   stage                142 non-null    object \n",
      " 7   country              142 non-null    object \n",
      " 8   funds_raised         142 non-null    float64\n",
      "dtypes: float64(3), object(6)\n",
      "memory usage: 11.1+ KB\n"
     ]
    }
   ],
   "source": [
    "tech2 = tech.dropna()\n",
    "tech2.info()"
   ]
  },
  {
   "cell_type": "code",
   "execution_count": 50,
   "metadata": {},
   "outputs": [
    {
     "data": {
      "text/plain": [
       "array(['Yahoo', 'GitLab', 'Protocol Labs', 'Splunk', 'DraftKings',\n",
       "       'Chainalysis', 'Software AG', 'Tilting Point', 'Matrixport',\n",
       "       'Shakepay', 'Confluent', 'Luno', 'Gitpod', 'Google',\n",
       "       'Citrine Informatics', 'ShareChat', 'Blockchain.com', 'Coinbase',\n",
       "       'ConsenSys', 'Parler', 'Huobi', 'Pecan AI', 'Twine Solutions ',\n",
       "       'Astronomer', 'Revelate', 'Thumbtack', 'Xentral', 'Airtable',\n",
       "       'Houzz', 'Netlify', 'Kraken', 'CoinJar', 'Wildlife Studios',\n",
       "       'Candy Digital', 'Lemon', 'Quidax', 'UiPath', 'Juul', 'InfluxData',\n",
       "       'Ocavu', 'Meta', 'Kabam', 'Twitter', 'Exodus', 'Dapper Labs',\n",
       "       'Loom', 'Playdots', 'Crypto.com', 'NYDIG', 'Pendo', '2TM', 'Snap',\n",
       "       'Pliops', 'Linktree', 'iRobot', 'Jam City', 'Nylas', 'Stedi',\n",
       "       'Coinsquare', 'Immutable', 'Gemini', 'Unstoppable Domains',\n",
       "       'Bryter', 'Anodot', 'SQream', 'Verbit', 'Bullish', 'Lightricks',\n",
       "       'Celsius', 'Stream', 'Abra', 'Niantic', 'Qumulo',\n",
       "       'Bright Machines', 'Banxa', 'SafeGraph', 'Bitpanda', 'Sourcegraph',\n",
       "       'BitOasis', 'TIFIN', 'BlockFi', 'Superhuman', 'Gather', 'IRL',\n",
       "       'Bitso', 'Buenbit', 'BeyondMinds', 'Airtime', 'Skillz', 'Picsart',\n",
       "       'DataRobot', 'Mural', 'Cameo', 'Xiaohongshu', 'BitMEX', 'Rasa',\n",
       "       'Hyperscience', 'Glossier', 'BitTitan', 'NS8', 'Mozilla', 'Sonos',\n",
       "       'Dark', 'Builder', 'Descartes Labs', 'BookMyShow', 'Glitch',\n",
       "       'Mixpanel', 'Segment', 'Sandbox VR', 'App Annie', 'Jiobit',\n",
       "       'Sisense', 'Magic Leap', 'GoPro', 'VSCO', 'NuoDB', 'Yelp', 'Domo',\n",
       "       'Matterport', 'Code42', 'Eventbrite', 'GetNinjas', 'Iflix',\n",
       "       'Rover', 'HOOQ', 'Jama', 'GrayMeta', 'Panda Squad'], dtype=object)"
      ]
     },
     "execution_count": 50,
     "metadata": {},
     "output_type": "execute_result"
    }
   ],
   "source": [
    "tech2['company'].unique()"
   ]
  },
  {
   "cell_type": "code",
   "execution_count": 51,
   "metadata": {},
   "outputs": [
    {
     "data": {
      "text/html": [
       "<div>\n",
       "<style scoped>\n",
       "    .dataframe tbody tr th:only-of-type {\n",
       "        vertical-align: middle;\n",
       "    }\n",
       "\n",
       "    .dataframe tbody tr th {\n",
       "        vertical-align: top;\n",
       "    }\n",
       "\n",
       "    .dataframe thead th {\n",
       "        text-align: right;\n",
       "    }\n",
       "</style>\n",
       "<table border=\"1\" class=\"dataframe\">\n",
       "  <thead>\n",
       "    <tr style=\"text-align: right;\">\n",
       "      <th></th>\n",
       "      <th>company</th>\n",
       "      <th>location</th>\n",
       "      <th>industry</th>\n",
       "      <th>total_laid_off</th>\n",
       "      <th>percentage_laid_off</th>\n",
       "      <th>date</th>\n",
       "      <th>stage</th>\n",
       "      <th>country</th>\n",
       "      <th>funds_raised</th>\n",
       "    </tr>\n",
       "  </thead>\n",
       "  <tbody>\n",
       "    <tr>\n",
       "      <th>2</th>\n",
       "      <td>Yahoo</td>\n",
       "      <td>SF Bay Area</td>\n",
       "      <td>Consumer</td>\n",
       "      <td>1600.0</td>\n",
       "      <td>0.20</td>\n",
       "      <td>2023-02-09</td>\n",
       "      <td>Acquired</td>\n",
       "      <td>United States</td>\n",
       "      <td>6.0</td>\n",
       "    </tr>\n",
       "    <tr>\n",
       "      <th>3</th>\n",
       "      <td>GitLab</td>\n",
       "      <td>SF Bay Area</td>\n",
       "      <td>Product</td>\n",
       "      <td>130.0</td>\n",
       "      <td>0.07</td>\n",
       "      <td>2023-02-09</td>\n",
       "      <td>Post-IPO</td>\n",
       "      <td>United States</td>\n",
       "      <td>413.0</td>\n",
       "    </tr>\n",
       "    <tr>\n",
       "      <th>7</th>\n",
       "      <td>Protocol Labs</td>\n",
       "      <td>SF Bay Area</td>\n",
       "      <td>Crypto</td>\n",
       "      <td>89.0</td>\n",
       "      <td>0.20</td>\n",
       "      <td>2023-02-03</td>\n",
       "      <td>Unknown</td>\n",
       "      <td>United States</td>\n",
       "      <td>10.0</td>\n",
       "    </tr>\n",
       "    <tr>\n",
       "      <th>11</th>\n",
       "      <td>Splunk</td>\n",
       "      <td>SF Bay Area</td>\n",
       "      <td>Data</td>\n",
       "      <td>325.0</td>\n",
       "      <td>0.04</td>\n",
       "      <td>2023-02-01</td>\n",
       "      <td>Post-IPO</td>\n",
       "      <td>United States</td>\n",
       "      <td>2400.0</td>\n",
       "    </tr>\n",
       "    <tr>\n",
       "      <th>13</th>\n",
       "      <td>DraftKings</td>\n",
       "      <td>Boston</td>\n",
       "      <td>Consumer</td>\n",
       "      <td>140.0</td>\n",
       "      <td>0.04</td>\n",
       "      <td>2023-02-01</td>\n",
       "      <td>Post-IPO</td>\n",
       "      <td>United States</td>\n",
       "      <td>719.0</td>\n",
       "    </tr>\n",
       "  </tbody>\n",
       "</table>\n",
       "</div>"
      ],
      "text/plain": [
       "          company     location  industry  total_laid_off  percentage_laid_off  \\\n",
       "2           Yahoo  SF Bay Area  Consumer          1600.0                 0.20   \n",
       "3          GitLab  SF Bay Area   Product           130.0                 0.07   \n",
       "7   Protocol Labs  SF Bay Area    Crypto            89.0                 0.20   \n",
       "11         Splunk  SF Bay Area      Data           325.0                 0.04   \n",
       "13     DraftKings       Boston  Consumer           140.0                 0.04   \n",
       "\n",
       "          date     stage        country  funds_raised  \n",
       "2   2023-02-09  Acquired  United States           6.0  \n",
       "3   2023-02-09  Post-IPO  United States         413.0  \n",
       "7   2023-02-03   Unknown  United States          10.0  \n",
       "11  2023-02-01  Post-IPO  United States        2400.0  \n",
       "13  2023-02-01  Post-IPO  United States         719.0  "
      ]
     },
     "execution_count": 51,
     "metadata": {},
     "output_type": "execute_result"
    }
   ],
   "source": [
    "tech2.head()"
   ]
  },
  {
   "cell_type": "code",
   "execution_count": 56,
   "metadata": {},
   "outputs": [],
   "source": [
    "tech3 = tech2[tech2['percentage_laid_off'] != 1.0]"
   ]
  },
  {
   "cell_type": "code",
   "execution_count": 57,
   "metadata": {},
   "outputs": [
    {
     "name": "stdout",
     "output_type": "stream",
     "text": [
      "<class 'pandas.core.frame.DataFrame'>\n",
      "Int64Index: 138 entries, 2 to 330\n",
      "Data columns (total 9 columns):\n",
      " #   Column               Non-Null Count  Dtype  \n",
      "---  ------               --------------  -----  \n",
      " 0   company              138 non-null    object \n",
      " 1   location             138 non-null    object \n",
      " 2   industry             138 non-null    object \n",
      " 3   total_laid_off       138 non-null    float64\n",
      " 4   percentage_laid_off  138 non-null    float64\n",
      " 5   date                 138 non-null    object \n",
      " 6   stage                138 non-null    object \n",
      " 7   country              138 non-null    object \n",
      " 8   funds_raised         138 non-null    float64\n",
      "dtypes: float64(3), object(6)\n",
      "memory usage: 10.8+ KB\n"
     ]
    }
   ],
   "source": [
    "tech3.info()"
   ]
  },
  {
   "cell_type": "code",
   "execution_count": 58,
   "metadata": {},
   "outputs": [],
   "source": [
    "tech2.to_csv('./data/layoffs_clean.csv', index=False)"
   ]
  },
  {
   "cell_type": "code",
   "execution_count": null,
   "metadata": {},
   "outputs": [],
   "source": []
  }
 ],
 "metadata": {
  "kernelspec": {
   "display_name": "Python 3",
   "language": "python",
   "name": "python3"
  },
  "language_info": {
   "codemirror_mode": {
    "name": "ipython",
    "version": 3
   },
   "file_extension": ".py",
   "mimetype": "text/x-python",
   "name": "python",
   "nbconvert_exporter": "python",
   "pygments_lexer": "ipython3",
   "version": "3.10.8"
  },
  "orig_nbformat": 4,
  "vscode": {
   "interpreter": {
    "hash": "44cdee954cea322947a16841208e70c17e993650204992e07bd65785a2a21bbd"
   }
  }
 },
 "nbformat": 4,
 "nbformat_minor": 2
}
